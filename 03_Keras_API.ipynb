{
 "cells": [
  {
   "cell_type": "markdown",
   "metadata": {},
   "source": [
    "# TensorFlow Tutorial - 3"
   ]
  },
  {
   "cell_type": "markdown",
   "metadata": {},
   "source": [
    "## Keras API"
   ]
  },
  {
   "cell_type": "markdown",
   "metadata": {},
   "source": [
    "### Introduction\n",
    "\n",
    "Tutorial-2 showed how to implement a CNN in TensorFlow. We made a few helper-functions for creating the layers in the network. It is essential to have a good high-level API because it makes it much easier to implement complex models, and it lowers the risk of errors. \n",
    "\n",
    "There are several of these builder API's available for TensorFlow: PrettyTensor, Layers API and several others. \n",
    "\n",
    "This tutorial is about the Keras API which is already highly developed with very good documentation - and the development continues.  It seems likely that Keras will be the standard API for TensorFlow in the future so it is recommended that you use it instead of the other APIs.\n",
    "\n",
    "The author of Keras has written a [blog-post](https://blog.keras.io/user-experience-design-for-apis.html) on his API design philosophy which you should read."
   ]
  },
  {
   "cell_type": "markdown",
   "metadata": {},
   "source": [
    "### Flowchart\n",
    "\n",
    "The following chart shows roughly how the data flows in the Convolutional Neural Network that is implemented below. See tutorial-2 for a more detailed description of convolution. \n",
    "\n",
    "There are two convolutional layers, each followed by a down-sampling using max-pooling. Then there are two filly-connected layers ending in a softmax-classifier. \n"
   ]
  },
  {
   "cell_type": "markdown",
   "metadata": {},
   "source": [
    "### Fashion-MNIST Data set\n",
    "\n",
    "Again, we would be using the Fashion MNIST data set from the previous tensorflow tutorial. \n",
    "\n",
    "The Fashion-MNIST dataset contains Zalando's article images, with 28x28 grayscale images of 65,000 fashion products from 10 categories, and 6,500 images per category. The training set has 55,000 images, and the test set has 10,000 images. "
   ]
  },
  {
   "cell_type": "markdown",
   "metadata": {},
   "source": [
    "#### Loading the data"
   ]
  },
  {
   "cell_type": "code",
   "execution_count": 1,
   "metadata": {},
   "outputs": [
    {
     "name": "stderr",
     "output_type": "stream",
     "text": [
      "Using TensorFlow backend.\n"
     ]
    }
   ],
   "source": [
    "from keras.datasets import fashion_mnist\n",
    "\n",
    "(df_train_X, df_train_Y), (df_test_X, df_test_Y) = fashion_mnist.load_data()"
   ]
  },
  {
   "cell_type": "markdown",
   "metadata": {},
   "source": [
    "#### Lets Analyze the data set:"
   ]
  },
  {
   "cell_type": "code",
   "execution_count": 2,
   "metadata": {},
   "outputs": [
    {
     "name": "stdout",
     "output_type": "stream",
     "text": [
      "Training data shape:  (60000, 28, 28) (60000,)\n",
      "Testing data shape:  (10000, 28, 28) (10000,)\n"
     ]
    }
   ],
   "source": [
    "import numpy as np\n",
    "from keras.utils import to_categorical\n",
    "import matplotlib.pyplot as plt\n",
    "%matplotlib inline\n",
    "\n",
    "print('Training data shape: ', df_train_X.shape, df_train_Y.shape)\n",
    "print('Testing data shape: ', df_test_X.shape, df_test_Y.shape)"
   ]
  },
  {
   "cell_type": "markdown",
   "metadata": {},
   "source": [
    "#### Importing TensorFlow and Keras modules"
   ]
  },
  {
   "cell_type": "code",
   "execution_count": 45,
   "metadata": {},
   "outputs": [],
   "source": [
    "%matplotlib inline\n",
    "import matplotlib.pyplot as plt\n",
    "import tensorflow as tf\n",
    "import numpy as np\n",
    "import math\n",
    "\n",
    "import keras \n",
    "from keras.models import Sequential, Input, Model\n",
    "from keras.layers import Dense, Dropout, Flatten\n",
    "from keras.layers import Conv2D, MaxPooling2D\n",
    "\n",
    "from keras.layers.normalization import BatchNormalization\n",
    "from keras.layers.advanced_activations import LeakyReLU"
   ]
  },
  {
   "cell_type": "code",
   "execution_count": 4,
   "metadata": {},
   "outputs": [
    {
     "data": {
      "text/plain": [
       "'1.11.0'"
      ]
     },
     "execution_count": 4,
     "metadata": {},
     "output_type": "execute_result"
    }
   ],
   "source": [
    "tf.__version__"
   ]
  },
  {
   "cell_type": "markdown",
   "metadata": {},
   "source": [
    "#### Helper-function for plotting images\n",
    "\n",
    "Function used to plot 9 images in a 3x3 grid, and writing the true and predicted classes below each image."
   ]
  },
  {
   "cell_type": "code",
   "execution_count": 15,
   "metadata": {},
   "outputs": [],
   "source": [
    "# The number of pixels in each dimension of an image.\n",
    "img_size = df_train_X.shape\n",
    "\n",
    "# The images are stored in one-dimensional arrays of this length.\n",
    "img_size_flat = 60000*28*28\n",
    "\n",
    "# Tuple with height and width of images used to reshape arrays.\n",
    "img_shape = (df_train_X.shape[1], df_train_X.shape[2]) \n",
    "\n",
    "# Tuple with height, width and depth used to reshape arrays.\n",
    "# This is used for reshaping in Keras.\n",
    "img_shape_full = df_train_X.shape\n",
    "\n",
    "classes = np.unique(df_train_Y)\n",
    "nClasses = len(classes)\n",
    "\n",
    "# Number of classes, one class for each of 10 digits.\n",
    "num_classes = nClasses"
   ]
  },
  {
   "cell_type": "code",
   "execution_count": 16,
   "metadata": {},
   "outputs": [],
   "source": [
    "def plot_images(images, cls_true, cls_pred=None):\n",
    "    assert len(images) == len(cls_true) == 9\n",
    "    \n",
    "    # Create figure with 3x3 sub-plots.\n",
    "    fig, axes = plt.subplots(3, 3)\n",
    "    fig.subplots_adjust(hspace=0.3, wspace=0.3)\n",
    "\n",
    "    for i, ax in enumerate(axes.flat):\n",
    "        # Plot image.\n",
    "        ax.imshow(images[i].reshape(img_shape), cmap='binary')\n",
    "\n",
    "        # Show true and predicted classes.\n",
    "        if cls_pred is None:\n",
    "            xlabel = \"True: {0}\".format(cls_true[i])\n",
    "        else:\n",
    "            xlabel = \"True: {0}, Pred: {1}\".format(cls_true[i], cls_pred[i])\n",
    "\n",
    "        # Show the classes as the label on the x-axis.\n",
    "        ax.set_xlabel(xlabel)\n",
    "        \n",
    "        # Remove ticks from the plot.\n",
    "        ax.set_xticks([])\n",
    "        ax.set_yticks([])\n",
    "    \n",
    "    # Ensure the plot is shown correctly with multiple plots\n",
    "    # in a single Notebook cell.\n",
    "    plt.show()"
   ]
  },
  {
   "cell_type": "markdown",
   "metadata": {},
   "source": [
    "Plot a few images to see if data is correct"
   ]
  },
  {
   "cell_type": "code",
   "execution_count": 17,
   "metadata": {},
   "outputs": [
    {
     "data": {
      "image/png": "[encoded data removed]",
      "text/plain": [
       "<Figure size 432x288 with 9 Axes>"
      ]
     },
     "metadata": {},
     "output_type": "display_data"
    }
   ],
   "source": [
    "# Get the first images from the test-set.\n",
    "images = df_train_X[0:9]\n",
    "\n",
    "# Get the true classes for those images.\n",
    "cls_true = df_train_Y[0:9]\n",
    "\n",
    "# Plot the images and labels using our helper-function above.\n",
    "plot_images(images=images, cls_true=cls_true)"
   ]
  },
  {
   "cell_type": "markdown",
   "metadata": {},
   "source": [
    "#### Helper-function to plot example errors\n",
    "\n",
    "Function for plotting examples of images from the test-set that have been mis-classified.\n"
   ]
  },
  {
   "cell_type": "code",
   "execution_count": 18,
   "metadata": {},
   "outputs": [],
   "source": [
    "def plot_example_errors(cls_pred):\n",
    "    # cls_pred is an array of the predicted class-number for\n",
    "    # all images in the test-set.\n",
    "\n",
    "    # Boolean array whether the predicted class is incorrect.\n",
    "    incorrect = (cls_pred != df_test_X)\n",
    "\n",
    "    # Get the images from the test-set that have been\n",
    "    # incorrectly classified.\n",
    "    images = df_test_X[incorrect]\n",
    "    \n",
    "    # Get the predicted classes for those images.\n",
    "    cls_pred = cls_pred[incorrect]\n",
    "\n",
    "    # Get the true classes for those images.\n",
    "    cls_true = df_test_Y[incorrect]\n",
    "    \n",
    "    # Plot the first 9 images.\n",
    "    plot_images(images=images[0:9],\n",
    "                cls_true=cls_true[0:9],\n",
    "                cls_pred=cls_pred[0:9])"
   ]
  },
  {
   "cell_type": "markdown",
   "metadata": {},
   "source": [
    "#### Functional Model\n",
    "\n",
    "The Keras API can be used to construct more complicated networks using the functional model. Here, each call to the Keras API will create and return an instance that is itself callable. It is not clear whether it is a function or an object - but we can call it as if it is a function. "
   ]
  },
  {
   "cell_type": "markdown",
   "metadata": {},
   "source": [
    "Let's do some data processing before we start working on the model."
   ]
  },
  {
   "cell_type": "code",
   "execution_count": 22,
   "metadata": {},
   "outputs": [
    {
     "name": "stdout",
     "output_type": "stream",
     "text": [
      "Original label:  5\n",
      "After conversion to one-hot:  [0. 0. 0. 0. 0. 1. 0. 0. 0. 0.]\n"
     ]
    }
   ],
   "source": [
    "df_train_X = df_train_X.reshape(-1, 28, 28, 1)\n",
    "df_test_X  = df_test_X.reshape(-1, 28, 28, 1)\n",
    "\n",
    "df_train_X.shape, df_test_X.shape\n",
    "\n",
    "df_train_X = df_train_X.astype('float32')\n",
    "df_test_X  = df_test_X.astype('float32')\n",
    "\n",
    "df_train_X = df_train_X / 255\n",
    "df_test_X  = df_test_X / 255\n",
    "\n",
    "# change the labels from categorical to one-hot encoding:\n",
    "df_train_Y_one_hot = to_categorical(df_train_Y)\n",
    "df_test_Y_one_hot  = to_categorical(df_test_Y)\n",
    "\n",
    "# display the change for category label\n",
    "print('Original label: ', df_train_Y[8])\n",
    "print('After conversion to one-hot: ', df_train_Y_one_hot[8])\n",
    "\n",
    "from sklearn.model_selection import train_test_split\n",
    "\n",
    "df_train_X, df_valid_X, df_train_label, df_valid_label = train_test_split(df_train_X, \n",
    "                                                                          df_train_Y_one_hot, \n",
    "                                                                          test_size=0.2, \n",
    "                                                                         random_state=13)"
   ]
  },
  {
   "cell_type": "code",
   "execution_count": 23,
   "metadata": {},
   "outputs": [
    {
     "data": {
      "text/plain": [
       "((48000, 28, 28, 1), (12000, 28, 28, 1), (48000, 10), (12000, 10))"
      ]
     },
     "execution_count": 23,
     "metadata": {},
     "output_type": "execute_result"
    }
   ],
   "source": [
    "df_train_X.shape, df_valid_X.shape, df_train_label.shape, df_valid_label.shape"
   ]
  },
  {
   "cell_type": "markdown",
   "metadata": {},
   "source": [
    "Let's take more about the architecture:\n",
    "\n",
    "First layer: Conv2D:\n",
    "\n",
    "We are using this function because we are working with images.\n",
    "\n",
    "Second Layer: Leaky ReLU:\n",
    "\n",
    "We are using leaky relu because we need a non-linear decision boundary that could separate our 10 classes which are not linearly separable.\n",
    "\n",
    "More specifically, you add Leaky ReLUs because they attempt to fix the problem of dying Rectified Linear Units (ReLUs). The ReLU activation function is used a lot in neural network architectures and more specifically in convolutional networks, where it has proven to be more effective than the widely used logistic sigmoid function.\n",
    "\n",
    "As of 2017, this activation function is the most popular one for deep neural networks. The ReLU function allows the activation to be thresholded at zero. However, during the training, ReLU units can \"die\". This can happen when a large gradient flows through a ReLU neuron: it can cause the weights to update in such a way that the neuron will never activate on any data point again. If this happens, then the gradient flowing through the unit will forever be zero from that point on. Leaky ReLUs attempt to solve this: the function will not be zero but will instead have a small negative slope.\n",
    "\n",
    "Third Layer: MaxPooling2D()\n",
    "\n",
    "The last layer is a Dense layer that has a softmax activation function with 10 units, which is needed for this multi-class classification problem."
   ]
  },
  {
   "cell_type": "code",
   "execution_count": 62,
   "metadata": {},
   "outputs": [],
   "source": [
    "batch_size = 128\n",
    "epochs = 50\n",
    "num_classes = 10\n",
    "\n",
    "inputs = Input(shape=(28,28,1))\n",
    "\n",
    "cnn_model = Conv2D(32, \n",
    "                     kernel_size=(3,3), \n",
    "                     activation='linear', \n",
    "                     input_shape=(28,28,1),\n",
    "                     padding='same')(inputs)\n",
    "\n",
    "cnn_model = LeakyReLU(alpha=0.1)(cnn_model)\n",
    "\n",
    "cnn_model = MaxPooling2D((2,2),padding='same')(cnn_model)\n",
    "\n",
    "cnn_model = Conv2D(64, (3,3), activation='linear',padding='same')(cnn_model)\n",
    "\n",
    "cnn_model = LeakyReLU(alpha=0.1)(cnn_model)\n",
    "\n",
    "cnn_model = MaxPooling2D((2,2),padding='same')(cnn_model)\n",
    "\n",
    "cnn_model = Conv2D(128, (3,3), activation='linear',padding='same')(cnn_model)\n",
    "\n",
    "cnn_model = LeakyReLU(alpha=0.1)(cnn_model)\n",
    "\n",
    "cnn_model = MaxPooling2D(pool_size=(2,2),padding='same')(cnn_model)\n",
    "\n",
    "cnn_model = Flatten()(cnn_model)\n",
    "\n",
    "cnn_model = Dense(128, activation='linear')(cnn_model)\n",
    "\n",
    "cnn_model = LeakyReLU(alpha=0.1)(cnn_model)\n",
    "\n",
    "cnn_model = Dense(num_classes, activation='softmax')(cnn_model)\n",
    "\n",
    "outputs = cnn_model"
   ]
  },
  {
   "cell_type": "markdown",
   "metadata": {},
   "source": [
    "#### Compile the model"
   ]
  },
  {
   "cell_type": "markdown",
   "metadata": {},
   "source": [
    "We have now defined the architecture of the model with its input and output. We now have to create a Keras model and compile it with a loss-function and optimizer, so it is ready for training."
   ]
  },
  {
   "cell_type": "markdown",
   "metadata": {},
   "source": [
    "Create a new instance of the Keras Functional Model. We give it the inputs and outputs of the Convolutional Neural Network that we constructed above."
   ]
  },
  {
   "cell_type": "code",
   "execution_count": 63,
   "metadata": {},
   "outputs": [],
   "source": [
    "model2 = Model(inputs=inputs, outputs=outputs)"
   ]
  },
  {
   "cell_type": "markdown",
   "metadata": {},
   "source": [
    "Compile the Keras model using the RMSprop optimizer and with a loss-function for multiple categories. The only performance metric we are interested in is the classification accuracy, but you could use a list of metrics here."
   ]
  },
  {
   "cell_type": "code",
   "execution_count": 64,
   "metadata": {},
   "outputs": [],
   "source": [
    "model2.compile(loss=keras.losses.categorical_crossentropy, \n",
    "                  optimizer=keras.optimizers.Adam(),\n",
    "                  metrics=['accuracy'])"
   ]
  },
  {
   "cell_type": "code",
   "execution_count": 65,
   "metadata": {},
   "outputs": [
    {
     "name": "stdout",
     "output_type": "stream",
     "text": [
      "_________________________________________________________________\n",
      "Layer (type)                 Output Shape              Param #   \n",
      "=================================================================\n",
      "input_5 (InputLayer)         (None, 28, 28, 1)         0         \n",
      "_________________________________________________________________\n",
      "conv2d_14 (Conv2D)           (None, 28, 28, 32)        320       \n",
      "_________________________________________________________________\n",
      "leaky_re_lu_19 (LeakyReLU)   (None, 28, 28, 32)        0         \n",
      "_________________________________________________________________\n",
      "max_pooling2d_13 (MaxPooling (None, 14, 14, 32)        0         \n",
      "_________________________________________________________________\n",
      "conv2d_15 (Conv2D)           (None, 14, 14, 64)        18496     \n",
      "_________________________________________________________________\n",
      "leaky_re_lu_20 (LeakyReLU)   (None, 14, 14, 64)        0         \n",
      "_________________________________________________________________\n",
      "max_pooling2d_14 (MaxPooling (None, 7, 7, 64)          0         \n",
      "_________________________________________________________________\n",
      "conv2d_16 (Conv2D)           (None, 7, 7, 128)         73856     \n",
      "_________________________________________________________________\n",
      "leaky_re_lu_21 (LeakyReLU)   (None, 7, 7, 128)         0         \n",
      "_________________________________________________________________\n",
      "max_pooling2d_15 (MaxPooling (None, 4, 4, 128)         0         \n",
      "_________________________________________________________________\n",
      "flatten_5 (Flatten)          (None, 2048)              0         \n",
      "_________________________________________________________________\n",
      "dense_9 (Dense)              (None, 128)               262272    \n",
      "_________________________________________________________________\n",
      "leaky_re_lu_22 (LeakyReLU)   (None, 128)               0         \n",
      "_________________________________________________________________\n",
      "dense_10 (Dense)             (None, 10)                1290      \n",
      "=================================================================\n",
      "Total params: 356,234\n",
      "Trainable params: 356,234\n",
      "Non-trainable params: 0\n",
      "_________________________________________________________________\n"
     ]
    }
   ],
   "source": [
    "model2.summary()"
   ]
  },
  {
   "cell_type": "markdown",
   "metadata": {},
   "source": [
    "##### Training"
   ]
  },
  {
   "cell_type": "markdown",
   "metadata": {},
   "source": [
    "The model has now been defined and compiled so it can be trained using the same fit() function as used in the Sequential Model above. This also takes numpy-arrays as input."
   ]
  },
  {
   "cell_type": "code",
   "execution_count": 66,
   "metadata": {
    "scrolled": true
   },
   "outputs": [
    {
     "name": "stdout",
     "output_type": "stream",
     "text": [
      "Train on 48000 samples, validate on 12000 samples\n",
      "Epoch 1/50\n",
      "48000/48000 [==============================] - 3s 68us/step - loss: 0.5216 - acc: 0.8103 - val_loss: 0.3611 - val_acc: 0.8742\n",
      "Epoch 2/50\n",
      "48000/48000 [==============================] - 3s 59us/step - loss: 0.3144 - acc: 0.8858 - val_loss: 0.2977 - val_acc: 0.8943\n",
      "Epoch 3/50\n",
      "48000/48000 [==============================] - 3s 59us/step - loss: 0.2645 - acc: 0.9040 - val_loss: 0.2623 - val_acc: 0.9067\n",
      "Epoch 4/50\n",
      "48000/48000 [==============================] - 3s 59us/step - loss: 0.2300 - acc: 0.9153 - val_loss: 0.2582 - val_acc: 0.9077\n",
      "Epoch 5/50\n",
      "48000/48000 [==============================] - 3s 59us/step - loss: 0.2088 - acc: 0.9224 - val_loss: 0.2321 - val_acc: 0.9157\n",
      "Epoch 6/50\n",
      "48000/48000 [==============================] - 3s 59us/step - loss: 0.1837 - acc: 0.9325 - val_loss: 0.2397 - val_acc: 0.9147\n",
      "Epoch 7/50\n",
      "48000/48000 [==============================] - 3s 59us/step - loss: 0.1699 - acc: 0.9381 - val_loss: 0.2303 - val_acc: 0.9182\n",
      "Epoch 8/50\n",
      "48000/48000 [==============================] - 3s 58us/step - loss: 0.1520 - acc: 0.9442 - val_loss: 0.2297 - val_acc: 0.9192\n",
      "Epoch 9/50\n",
      "48000/48000 [==============================] - 3s 58us/step - loss: 0.1329 - acc: 0.9504 - val_loss: 0.2264 - val_acc: 0.9194\n",
      "Epoch 10/50\n",
      "48000/48000 [==============================] - 3s 59us/step - loss: 0.1183 - acc: 0.9562 - val_loss: 0.2431 - val_acc: 0.9164\n",
      "Epoch 11/50\n",
      "48000/48000 [==============================] - 3s 59us/step - loss: 0.1035 - acc: 0.9617 - val_loss: 0.2481 - val_acc: 0.9176\n",
      "Epoch 12/50\n",
      "48000/48000 [==============================] - 3s 58us/step - loss: 0.0928 - acc: 0.9659 - val_loss: 0.2585 - val_acc: 0.9219\n",
      "Epoch 13/50\n",
      "48000/48000 [==============================] - 3s 59us/step - loss: 0.0775 - acc: 0.9712 - val_loss: 0.2867 - val_acc: 0.9216\n",
      "Epoch 14/50\n",
      "48000/48000 [==============================] - 3s 63us/step - loss: 0.0689 - acc: 0.9742 - val_loss: 0.2748 - val_acc: 0.9198\n",
      "Epoch 15/50\n",
      "48000/48000 [==============================] - 3s 60us/step - loss: 0.0586 - acc: 0.9780 - val_loss: 0.2953 - val_acc: 0.9223\n",
      "Epoch 16/50\n",
      "48000/48000 [==============================] - 3s 61us/step - loss: 0.0514 - acc: 0.9808 - val_loss: 0.3116 - val_acc: 0.9207\n",
      "Epoch 17/50\n",
      "48000/48000 [==============================] - 3s 60us/step - loss: 0.0439 - acc: 0.9841 - val_loss: 0.3097 - val_acc: 0.9215\n",
      "Epoch 18/50\n",
      "48000/48000 [==============================] - 3s 58us/step - loss: 0.0409 - acc: 0.9848 - val_loss: 0.3290 - val_acc: 0.9223\n",
      "Epoch 19/50\n",
      "48000/48000 [==============================] - 3s 60us/step - loss: 0.0372 - acc: 0.9866 - val_loss: 0.3437 - val_acc: 0.9198\n",
      "Epoch 20/50\n",
      "48000/48000 [==============================] - 3s 62us/step - loss: 0.0319 - acc: 0.9881 - val_loss: 0.3830 - val_acc: 0.9220\n",
      "Epoch 21/50\n",
      "48000/48000 [==============================] - 3s 62us/step - loss: 0.0255 - acc: 0.9908 - val_loss: 0.3874 - val_acc: 0.9218\n",
      "Epoch 22/50\n",
      "48000/48000 [==============================] - 3s 58us/step - loss: 0.0273 - acc: 0.9896 - val_loss: 0.4151 - val_acc: 0.9205\n",
      "Epoch 23/50\n",
      "48000/48000 [==============================] - 3s 58us/step - loss: 0.0263 - acc: 0.9901 - val_loss: 0.4138 - val_acc: 0.9208\n",
      "Epoch 24/50\n",
      "48000/48000 [==============================] - 3s 60us/step - loss: 0.0199 - acc: 0.9928 - val_loss: 0.3883 - val_acc: 0.9229\n",
      "Epoch 25/50\n",
      "48000/48000 [==============================] - 3s 58us/step - loss: 0.0239 - acc: 0.9914 - val_loss: 0.4378 - val_acc: 0.9207\n",
      "Epoch 26/50\n",
      "48000/48000 [==============================] - 3s 58us/step - loss: 0.0243 - acc: 0.9909 - val_loss: 0.4226 - val_acc: 0.9227\n",
      "Epoch 27/50\n",
      "48000/48000 [==============================] - 3s 59us/step - loss: 0.0153 - acc: 0.9949 - val_loss: 0.4267 - val_acc: 0.9217\n",
      "Epoch 28/50\n",
      "48000/48000 [==============================] - 3s 59us/step - loss: 0.0154 - acc: 0.9946 - val_loss: 0.4571 - val_acc: 0.9177\n",
      "Epoch 29/50\n",
      "48000/48000 [==============================] - 3s 59us/step - loss: 0.0224 - acc: 0.9921 - val_loss: 0.4754 - val_acc: 0.9180\n",
      "Epoch 30/50\n",
      "48000/48000 [==============================] - 3s 59us/step - loss: 0.0208 - acc: 0.9925 - val_loss: 0.4352 - val_acc: 0.9203\n",
      "Epoch 31/50\n",
      "48000/48000 [==============================] - 3s 59us/step - loss: 0.0130 - acc: 0.9958 - val_loss: 0.4898 - val_acc: 0.9214\n",
      "Epoch 32/50\n",
      "48000/48000 [==============================] - 3s 58us/step - loss: 0.0163 - acc: 0.9944 - val_loss: 0.5199 - val_acc: 0.9154\n",
      "Epoch 33/50\n",
      "48000/48000 [==============================] - 3s 59us/step - loss: 0.0193 - acc: 0.9929 - val_loss: 0.4709 - val_acc: 0.9209\n",
      "Epoch 34/50\n",
      "48000/48000 [==============================] - 3s 59us/step - loss: 0.0223 - acc: 0.9920 - val_loss: 0.5185 - val_acc: 0.9161\n",
      "Epoch 35/50\n",
      "48000/48000 [==============================] - 3s 59us/step - loss: 0.0132 - acc: 0.9955 - val_loss: 0.4976 - val_acc: 0.9199\n",
      "Epoch 36/50\n",
      "48000/48000 [==============================] - 3s 58us/step - loss: 0.0118 - acc: 0.9959 - val_loss: 0.5125 - val_acc: 0.9208\n",
      "Epoch 37/50\n",
      "48000/48000 [==============================] - 3s 58us/step - loss: 0.0160 - acc: 0.9945 - val_loss: 0.5359 - val_acc: 0.9209\n",
      "Epoch 38/50\n",
      "48000/48000 [==============================] - 3s 60us/step - loss: 0.0134 - acc: 0.9952 - val_loss: 0.5268 - val_acc: 0.9208\n",
      "Epoch 39/50\n",
      "48000/48000 [==============================] - 3s 59us/step - loss: 0.0111 - acc: 0.9963 - val_loss: 0.5363 - val_acc: 0.9208\n",
      "Epoch 40/50\n",
      "48000/48000 [==============================] - 3s 58us/step - loss: 0.0117 - acc: 0.9959 - val_loss: 0.5212 - val_acc: 0.9210\n",
      "Epoch 41/50\n",
      "48000/48000 [==============================] - 3s 59us/step - loss: 0.0111 - acc: 0.9961 - val_loss: 0.5371 - val_acc: 0.9199\n",
      "Epoch 42/50\n",
      "48000/48000 [==============================] - 3s 59us/step - loss: 0.0198 - acc: 0.9935 - val_loss: 0.5447 - val_acc: 0.9192\n",
      "Epoch 43/50\n",
      "48000/48000 [==============================] - 3s 59us/step - loss: 0.0132 - acc: 0.9961 - val_loss: 0.4964 - val_acc: 0.9236\n",
      "Epoch 44/50\n",
      "48000/48000 [==============================] - 3s 60us/step - loss: 0.0099 - acc: 0.9968 - val_loss: 0.5779 - val_acc: 0.9167\n",
      "Epoch 45/50\n",
      "48000/48000 [==============================] - 3s 60us/step - loss: 0.0101 - acc: 0.9967 - val_loss: 0.5431 - val_acc: 0.9233\n",
      "Epoch 46/50\n",
      "48000/48000 [==============================] - 3s 59us/step - loss: 0.0176 - acc: 0.9940 - val_loss: 0.5579 - val_acc: 0.9172\n",
      "Epoch 47/50\n",
      "48000/48000 [==============================] - 3s 60us/step - loss: 0.0133 - acc: 0.9954 - val_loss: 0.5344 - val_acc: 0.9218\n",
      "Epoch 48/50\n",
      "48000/48000 [==============================] - 3s 59us/step - loss: 0.0113 - acc: 0.9961 - val_loss: 0.5179 - val_acc: 0.9198\n",
      "Epoch 49/50\n",
      "48000/48000 [==============================] - 3s 59us/step - loss: 0.0106 - acc: 0.9963 - val_loss: 0.5798 - val_acc: 0.9165\n",
      "Epoch 50/50\n",
      "48000/48000 [==============================] - 3s 59us/step - loss: 0.0168 - acc: 0.9943 - val_loss: 0.5422 - val_acc: 0.9174\n"
     ]
    }
   ],
   "source": [
    "cnn_train =  model2.fit(x=df_train_X,\n",
    "                      y=df_train_label,\n",
    "                      batch_size=batch_size,\n",
    "                      epochs=epochs,\n",
    "                      verbose=1,\n",
    "                      validation_data=(df_valid_X, df_valid_label))"
   ]
  },
  {
   "cell_type": "markdown",
   "metadata": {},
   "source": [
    "Finally! You trained the model on fashion-MNIST for 50 epochs, and by observing the training accuracy and loss, you can say that the model did a good job since after 50 epochs the training accuracy is 99.43% and the training loss is quite low.\n",
    "\n",
    "However, it looks like the model is overfitting, as the validation loss is 0.6083 and the validation accuracy is 91.74%.\n",
    "\n",
    "Overfitting gives an intuition that the network has memorized the training data very well but is not guaranteed to work on unseen data, and that is why there is a difference in the training and validation accuracy."
   ]
  },
  {
   "cell_type": "markdown",
   "metadata": {},
   "source": [
    "#### Model Evaluation:\n",
    "\n",
    "Lets evaluate our model over test data to see how it performs."
   ]
  },
  {
   "cell_type": "code",
   "execution_count": 67,
   "metadata": {},
   "outputs": [],
   "source": [
    "test_eval = model2.evaluate(df_test_X, df_test_Y_one_hot, verbose=0)"
   ]
  },
  {
   "cell_type": "code",
   "execution_count": 68,
   "metadata": {},
   "outputs": [
    {
     "name": "stdout",
     "output_type": "stream",
     "text": [
      "Test loss: 0.5830869729827507\n",
      "Test accuracy: 0.9158\n"
     ]
    }
   ],
   "source": [
    "print('Test loss:', test_eval[0])\n",
    "print('Test accuracy:', test_eval[1])"
   ]
  },
  {
   "cell_type": "markdown",
   "metadata": {},
   "source": [
    "The test accuracy looks impressive. It turns out that your classifier does better than the benchmark that was reported, which is an SVM classifier with mean accuracy of 0.897. Also, the model does well compared to some of the deep learning models mentioned on the GitHub profile of the creators of fashion-MNIST dataset.\n",
    "\n",
    "\n",
    "Let's put our model evaluation into plots of accuracy vs loss between training and validation data:"
   ]
  },
  {
   "cell_type": "code",
   "execution_count": 69,
   "metadata": {},
   "outputs": [
    {
     "data": {
      "image/png": "[encoded data removed]",
      "text/plain": [
       "<Figure size 432x288 with 1 Axes>"
      ]
     },
     "metadata": {
      "needs_background": "light"
     },
     "output_type": "display_data"
    },
    {
     "data": {
      "image/png": "[encoded data removed]",
      "text/plain": [
       "<Figure size 432x288 with 1 Axes>"
      ]
     },
     "metadata": {
      "needs_background": "light"
     },
     "output_type": "display_data"
    }
   ],
   "source": [
    "accuracy = cnn_train.history['acc']\n",
    "val_accuracy = cnn_train.history['val_acc']\n",
    "loss = cnn_train.history['loss']\n",
    "val_loss = cnn_train.history['val_loss']\n",
    "epochs = range(len(accuracy))\n",
    "\n",
    "plt.plot(epochs, accuracy, 'bo', label='Training accuracy')\n",
    "plt.plot(epochs, val_accuracy, 'b', label='Validation accuracy')\n",
    "plt.title('Training and validation accuracy')\n",
    "plt.legend()\n",
    "plt.figure()\n",
    "\n",
    "plt.plot(epochs, loss, 'bo', label='Training loss')\n",
    "plt.plot(epochs, val_loss, 'b', label='Validation loss')\n",
    "plt.title('Training and validation loss')\n",
    "plt.legend()\n",
    "\n",
    "plt.show()"
   ]
  },
  {
   "cell_type": "markdown",
   "metadata": {},
   "source": [
    "#### Predict Labels"
   ]
  },
  {
   "cell_type": "markdown",
   "metadata": {},
   "source": [
    "Since the predictions you get are floating point values, it will not be feasible to compare the predicted labels with true test labels. So, you will round off the output which will convert the float values into an integer. Further, you will use np.argmax() to select the index number which has a higher value in a row."
   ]
  },
  {
   "cell_type": "code",
   "execution_count": 70,
   "metadata": {},
   "outputs": [],
   "source": [
    "predicted_classes = model2.predict(df_test_X)"
   ]
  },
  {
   "cell_type": "code",
   "execution_count": 71,
   "metadata": {},
   "outputs": [],
   "source": [
    "predicted_classes = np.argmax(np.round(predicted_classes),axis=1)"
   ]
  },
  {
   "cell_type": "code",
   "execution_count": 72,
   "metadata": {},
   "outputs": [
    {
     "data": {
      "text/plain": [
       "((10000,), (10000, 28, 28, 1))"
      ]
     },
     "execution_count": 72,
     "metadata": {},
     "output_type": "execute_result"
    }
   ],
   "source": [
    "predicted_classes.shape, df_test_X.shape"
   ]
  },
  {
   "cell_type": "code",
   "execution_count": 73,
   "metadata": {},
   "outputs": [
    {
     "name": "stdout",
     "output_type": "stream",
     "text": [
      "Found 9158 correct labels\n"
     ]
    },
    {
     "data": {
      "image/png": "[encoded data removed]",
      "text/plain": [
       "<Figure size 432x288 with 9 Axes>"
      ]
     },
     "metadata": {
      "needs_background": "light"
     },
     "output_type": "display_data"
    }
   ],
   "source": [
    "correct = np.where(predicted_classes==df_test_Y)[0]\n",
    "print (\"Found %d correct labels\" % len(correct))\n",
    "\n",
    "for i, correct in enumerate(correct[:9]):\n",
    "    plt.subplot(3,3,i+1)\n",
    "    plt.imshow(df_test_X[correct].reshape(28,28), cmap='gray', interpolation='none')\n",
    "    plt.title(\"Predicted {}, Class {}\".format(predicted_classes[correct], df_test_Y[correct]))\n",
    "    plt.tight_layout()\n"
   ]
  },
  {
   "cell_type": "code",
   "execution_count": 74,
   "metadata": {},
   "outputs": [
    {
     "name": "stdout",
     "output_type": "stream",
     "text": [
      "Found 842 incorrect labels\n"
     ]
    },
    {
     "data": {
      "image/png": "[encoded data removed]",
      "text/plain": [
       "<Figure size 432x288 with 9 Axes>"
      ]
     },
     "metadata": {
      "needs_background": "light"
     },
     "output_type": "display_data"
    }
   ],
   "source": [
    "incorrect = np.where(predicted_classes!=df_test_Y)[0]\n",
    "print (\"Found %d incorrect labels\" % len(incorrect))\n",
    "\n",
    "for i, incorrect in enumerate(incorrect[:9]):\n",
    "    plt.subplot(3,3,i+1)\n",
    "    plt.imshow(df_test_X[incorrect].reshape(28,28), cmap='gray', interpolation='none')\n",
    "    plt.title(\"Predicted {}, Class {}\".format(predicted_classes[incorrect], df_test_Y[incorrect]))\n",
    "    plt.tight_layout()"
   ]
  },
  {
   "cell_type": "markdown",
   "metadata": {},
   "source": [
    "By looking at a few images, you cannot be sure as to why your model is not able to classify the above images correctly, but it seems like a variety of the similar patterns present on multiple classes affect the performance of the classifier although CNN is a robust architecture. For example, images 5 and 6 both belong to different classes but look kind of similar maybe a jacket or perhaps a long sleeve shirt."
   ]
  },
  {
   "cell_type": "code",
   "execution_count": null,
   "metadata": {},
   "outputs": [],
   "source": []
  }
 ],
 "metadata": {
  "kernelspec": {
   "display_name": "tensorflow_gpuenv",
   "language": "python",
   "name": "tensorflow_gpuenv"
  },
  "language_info": {
   "codemirror_mode": {
    "name": "ipython",
    "version": 3
   },
   "file_extension": ".py",
   "mimetype": "text/x-python",
   "name": "python",
   "nbconvert_exporter": "python",
   "pygments_lexer": "ipython3",
   "version": "3.6.7"
  }
 },
 "nbformat": 4,
 "nbformat_minor": 2
}
